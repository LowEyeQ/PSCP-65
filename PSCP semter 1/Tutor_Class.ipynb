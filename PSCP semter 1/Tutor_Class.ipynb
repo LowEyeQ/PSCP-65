{
 "cells": [
  {
   "cell_type": "markdown",
   "metadata": {},
   "source": [
    "**หัวข้อ iterable (Tuple List Dictionary Set)**"
   ]
  },
  {
   "cell_type": "markdown",
   "metadata": {},
   "source": [
    "# Tuple\n",
    "เป็นชนิดตัวแปรที่เก็บข้อมูลหลายข้อมูลเอาไว้ในตัวแปรเดียวกัน เมื่อประกาศค่าแล้วจะไม่สามารถเปลี่ยนแปลงค่าที่เก็บไว้ได้"
   ]
  },
  {
   "cell_type": "code",
   "execution_count": null,
   "metadata": {},
   "outputs": [],
   "source": [
    "tup = (\"hello world\", 123, 10.00, True)\n",
    "print(tup)"
   ]
  },
  {
   "cell_type": "markdown",
   "metadata": {},
   "source": [
    "ซึ่งมีการจัดลำดับข้อมูลนับจาก 0 สามารถใช้ ฟังชั่น len นับจำนวนข้อมูลใน Tuple ได้"
   ]
  },
  {
   "cell_type": "code",
   "execution_count": null,
   "metadata": {},
   "outputs": [],
   "source": [
    "tup = (\"hello world\", 123, 10.00, True)\n",
    "print(len(tup))"
   ]
  },
  {
   "cell_type": "markdown",
   "metadata": {},
   "source": [
    "การสร้าง Tuple 1 ค่าต้องมี Comma ตามหลังข้อมูลที่ใส่ด้วย"
   ]
  },
  {
   "cell_type": "code",
   "execution_count": null,
   "metadata": {},
   "outputs": [],
   "source": [
    "tup = (\"hello world\",)\n",
    "print(type(tup))\n",
    "\n",
    "tup = (\"hello world\")\n",
    "print(type(tup))"
   ]
  },
  {
   "cell_type": "markdown",
   "metadata": {},
   "source": [
    "การเข้าถึงข้อมูลใน Tuple โดยใช้ลำดับของข้อมูลเริ่มตั้งแต่เลข 0 การนับเลขจากข้างหลังมาข้างหน้าจะเริ่มที่ -1 หรือเข้าถึงข้อมูลโดยการระบุ range โดยที่\n"
   ]
  },
  {
   "cell_type": "code",
   "execution_count": null,
   "metadata": {},
   "outputs": [],
   "source": [
    "tup = (\"hello world\", 123, 10.00, True)\n",
    "# [ ลำดับที่ต้องการ ]\n",
    "print(tup[0], tup[1], tup[-1], tup[-2])\n",
    "# [ เริ่ม : หยุด]\n",
    "print(tup[0:3])\n",
    "# [ เริ่ม : หยุด : step ]\n",
    "print(tup[0:4:2])\n",
    "# ใช้ค่า Default ของ Range โดยที่\n",
    "# เริ่ม มีค่า Default = ตัวแรก\n",
    "print(tup[:2])\n",
    "# หยุด มีค่า Default = ตัวสุดท้าย\n",
    "print(tup[1:])\n",
    "# step มีค่า Default = ไปทีละหนึ่งตัว\n",
    "print(tup[0:4:])"
   ]
  },
  {
   "cell_type": "markdown",
   "metadata": {},
   "source": [
    "สามารถใช้ in เพื่อตรวจสอบว่ามีข้อมูลที่ต้องการดูอยู่ใน Tuple หรือไม่ โดยคืนค่าเป็น True หรือ False"
   ]
  },
  {
   "cell_type": "code",
   "execution_count": null,
   "metadata": {},
   "outputs": [],
   "source": [
    "tup = (\"hello world\", 123, 10.00, True)\n",
    "if \"hello world\" in tup:\n",
    "    print(\"hello world in tuple\")"
   ]
  },
  {
   "cell_type": "markdown",
   "metadata": {},
   "source": [
    "Unpack หรือการนำข้อมูลที่อยู่ใน Tuple มาใส่ไว้ในตัวแปรแต่ละตัวแปรทำได้โดย จำนวนตัวแปรต้องมีขนาดเท่ากับจำนวนข้อมูลใน Tuple"
   ]
  },
  {
   "cell_type": "code",
   "execution_count": null,
   "metadata": {},
   "outputs": [],
   "source": [
    "tup = (\"hello world\", 123, 10.00, True)\n",
    "\n",
    "(txt, interger, floating, booleans) = tup\n",
    "\n",
    "print(txt)\n",
    "print(interger)\n",
    "print(floating)\n",
    "print(booleans)\n",
    "\n",
    "# หรือใช้ * เพื่อทำให้ค่าตัวแปรจากการ Unpack ที่เหลือแปลงเป็น List ใส่ในตัวแปรตัวนั้นทั้งหมด\n",
    "\n",
    "tup = (\"hello world\", 123, 10.00, True)\n",
    "\n",
    "(txt, *number, booleans) = tup\n",
    "\n",
    "print(txt)\n",
    "print(number)\n",
    "print(booleans)"
   ]
  },
  {
   "cell_type": "markdown",
   "metadata": {},
   "source": [
    "การ Loop เอาข้อมูลออกมาใช้ได้ทั้ง for loop และ while โดยที่\n"
   ]
  },
  {
   "cell_type": "code",
   "execution_count": null,
   "metadata": {},
   "outputs": [],
   "source": [
    "tup = (\"hello world\", 123, 10.00, True)\n",
    "for x in tup:\n",
    "    print(x)\n",
    "print(\"------------\")\n",
    "# หรือใช้ช่วง range() รันตัวเลขจาก ขนาดของข้อมูล len() แล้วนำตัวเลขที่ได้มาเข้าถึง Tuple\n",
    "for i in range(len(tup)):\n",
    "  print(tup[i], \"index %d\"%i)\n",
    "print(\"------------\")\n",
    "#หรือใช้ While loop\n",
    "i = 0\n",
    "while i < len(tup):\n",
    "    print(tup[i], \"index %d\"%i)\n",
    "    i = i + 1"
   ]
  },
  {
   "cell_type": "markdown",
   "metadata": {},
   "source": [
    "Join การรวม Tuple เข้าด้วยกันโดยใช้เครื่องหมาย + หรือ ใช้ * ในการคูณค่าเดิมเข้าไปตามจำนวนเลขที่เอาไปคูณ\n"
   ]
  },
  {
   "cell_type": "code",
   "execution_count": null,
   "metadata": {},
   "outputs": [],
   "source": [
    "tup1 = (\"hello world\", 123)\n",
    "tup2= (10.00, True)\n",
    "\n",
    "tup3 = tup1 + tup2\n",
    "print(tup3)\n",
    "\n",
    "tup4 = tup3 * 2\n",
    "print(tup4)"
   ]
  },
  {
   "cell_type": "markdown",
   "metadata": {},
   "source": [
    "Methods มี 2 build-in methods ที่สามารถใช้ได้ใน Tuple\n",
    "1. Count() นับจำนวนข้อมูลที่ต้องการใน Tuple\n",
    "2. index() หาตำแหน่งข้อมูลที่อยู่ใน Tuple"
   ]
  },
  {
   "cell_type": "code",
   "execution_count": null,
   "metadata": {},
   "outputs": [],
   "source": [
    "tup = (\"hello world\", 123, 123, 10.00, True)\n",
    "\n",
    "x = tup.count(123)\n",
    "\n",
    "print(x)\n",
    "\n",
    "tup = (\"hello world\", 123, 10.00, True)\n",
    "\n",
    "x = tup.index(True)\n",
    "\n",
    "print(x)"
   ]
  },
  {
   "cell_type": "markdown",
   "metadata": {},
   "source": [
    "# List\n",
    "เป็นชนิดตัวแปรที่เก็บข้อมูลหลายข้อมูลเอาไว้ในตัวแปรเดียวกันเหมือนกับ Tuple แต่สามารถเปลี่ยนแปลงค่าได้แม้จะประกาศค่าไปแล้วก็ตาม\n"
   ]
  },
  {
   "cell_type": "code",
   "execution_count": null,
   "metadata": {},
   "outputs": [],
   "source": [
    "lst = [\"hello world\", 123, 10.00, True]\n",
    "print(lst)"
   ]
  },
  {
   "cell_type": "markdown",
   "metadata": {},
   "source": [
    "ซึ่งมีการจัดลำดับข้อมูลนับจาก 0 สามารถใช้ ฟังชั่น len นับจำนวนข้อมูลใน List ได้\n",
    "ใช้ list() ในการแปลงข้อมูลที่เป็น tuple ให้เป็น ตัวแปรชนิด List ได้"
   ]
  },
  {
   "cell_type": "code",
   "execution_count": null,
   "metadata": {},
   "outputs": [],
   "source": [
    "lst1 = [\"hello world\", 123, 10.00, True]\n",
    "print(len(lst1))\n",
    "\n",
    "lst2 = list((\"hello world\", 123, 123, 10.00, True))\n",
    "print(lst2)\n",
    "\n"
   ]
  },
  {
   "cell_type": "markdown",
   "metadata": {},
   "source": [
    "การเข้าถึงข้อมูลใน List สามารถทำได้เหมือนกับการเข้าถึงข้อมูลของ Tuple"
   ]
  },
  {
   "cell_type": "code",
   "execution_count": null,
   "metadata": {},
   "outputs": [],
   "source": [
    "lst = [\"hello world\", 123, 10.00, True]\n",
    "print(lst[0], lst[1], lst[-1], lst[-2])\n",
    "\n",
    "print(lst[0:3])\n",
    "\n",
    "print(lst[0:4:2])\n",
    "\n",
    "print(lst[:2])\n",
    "\n",
    "print(lst[1:])\n",
    "\n",
    "print(lst[0:4:])"
   ]
  },
  {
   "cell_type": "markdown",
   "metadata": {},
   "source": [
    "สามารถใช้ in ได้เหมือนกับ Tuple"
   ]
  },
  {
   "cell_type": "code",
   "execution_count": null,
   "metadata": {},
   "outputs": [],
   "source": [
    "lst = [\"hello world\", 123, 10.00, True]\n",
    "if \"hello world\" in lst:\n",
    "    print(\"hello world in tuple\")"
   ]
  },
  {
   "cell_type": "markdown",
   "metadata": {},
   "source": [
    "List สามารถเปลี่ยนแปลงค่าได้โดย\n",
    "1. ระบุตำแหน่งที่ต้องการจะเปลี่ยน\n",
    "2. ระบุเป็นช่วงที่ต้องการจะเปลี่ยน\n",
    "3. ใช้ insert() method เพื่อแทรกข้อมูลเข้าไปใน List"
   ]
  },
  {
   "cell_type": "code",
   "execution_count": null,
   "metadata": {},
   "outputs": [],
   "source": [
    "lst1 = [\"hello world\", 123, 10.00, True]\n",
    "lst1[1] = 456\n",
    "print(lst1)\n",
    "\n",
    "lst2 = [\"hello world\", 123, 10.00, True]\n",
    "lst2[1:3] = [789, 11.00]\n",
    "print(lst2)\n",
    "\n",
    "# insert(ตำแหน่งที่จะเอาข้อมูลไปแทรกข้างหน้า, ค่าที่ต้องการเอาไปแทรก)\n",
    "lst3 = [\"hello world\", 123, 10.00, True]\n",
    "lst3.insert(2, \"Text\")\n",
    "print(lst3)"
   ]
  },
  {
   "cell_type": "markdown",
   "metadata": {},
   "source": [
    "การเพิ่มข้อมูลลงใน List ทำได้หลายแบบโดย\n",
    "1. ใช้ append() method เพื่อนำข้อมูลลงใน List ต่อท้าย\n",
    "2. ใช้ insert() method ตามข้างบน\n",
    "3. ใช้ extend() method เพิ่อนำข้อมูลที่อยู่ในตัวแปรหลายข้อมูล เช่น Tuple List Dictionary หรือ Set มารวมอยู่ใน List นั้นๆ"
   ]
  },
  {
   "cell_type": "code",
   "execution_count": null,
   "metadata": {},
   "outputs": [],
   "source": [
    "lst1 = [\"hello world\", 123, 10.00, True]\n",
    "lst1.append(\"Last\")\n",
    "print(lst1)\n",
    "\n",
    "lst3 = [\"hello world\", 123, 10.00, True]\n",
    "lst_ex = [\"hello Oof\", 456, 11.000, False]\n",
    "lst3.extend(lst_ex)\n",
    "print(lst3)\n",
    "\n"
   ]
  },
  {
   "cell_type": "markdown",
   "metadata": {},
   "source": [
    "การลบข้อมูลของ List ทำได้โดย\n",
    "1. ใช้ remove() method กรอกข้อมูลที่ต้องการลบใน List ไล่ลบทีละข้อมูลจากซ้ายไปขวา\n",
    "2. ใช้ pop() method Default สำหรับลบค่าที่อยู่ข้างหลังสุดของข้อมูลใน List หรือใส่ตำแหน่งที่ต้องการลบก็ได้\n",
    "3. ใช้ del ลบตัวแปรออกไปเลย หรือ ใส่ช่วงที่ต้องการลบของตัวแปร List นั้น\n",
    "4. ใช้ clear() method ใช้ล้างข้อมูลข้างใน List ทั้งหมดกลายเป็น List ที่ข้อมูลข้างในไม่เหลือเลย [ ]"
   ]
  },
  {
   "cell_type": "code",
   "execution_count": null,
   "metadata": {},
   "outputs": [],
   "source": [
    "lst1 = [\"hello world\", 123, 10.00, True, \"hello world\"]\n",
    "lst1.remove(\"hello world\")\n",
    "print(lst1)\n",
    "\n",
    "lst2_1 = [\"hello world\", 123, 10.00, True]\n",
    "lst2_1.pop(1)\n",
    "print(lst2_1)\n",
    "\n",
    "lst2_2 = [\"hello world\", 123, 10.00, True]\n",
    "lst2_2.pop()\n",
    "print(lst2_2)\n",
    "\n",
    "lst3_1 = [\"hello world\", 123, 10.00, True]\n",
    "del lst3_1[0]\n",
    "print(lst3_1)\n",
    "\n",
    "lst3_2 = [\"hello world\", 123, 10.00, True]\n",
    "del lst3_2\n",
    "\n",
    "lst4 = [\"hello world\", 123, 10.00, True]\n",
    "lst4.clear()\n",
    "print(lst4)\n"
   ]
  },
  {
   "cell_type": "markdown",
   "metadata": {},
   "source": [
    "การลูปเอาข้อมูลออกมาใช้ทำได้เหมือนกับ Tuple แต่มีเพิ่มมาคือ List Comprehension เป็นการย่อ for loop ให้อยู่ใน List แล้วนำค่าไปใส่ใน List นั้นได้เลย\n",
    "1. for loop\n",
    "2. for loop ด้วย range() และ len()\n",
    "3. while loop\n",
    "4. List Comprehension"
   ]
  },
  {
   "cell_type": "code",
   "execution_count": null,
   "metadata": {},
   "outputs": [],
   "source": [
    "lst1 = [\"hello world\", 123, 10.00, True]\n",
    "for x in lst1:\n",
    "  print(x)\n",
    "print(\"-------------\")\n",
    "\n",
    "lst2 = [\"hello world\", 123, 10.00, True]\n",
    "for i in range(len(lst2)):\n",
    "  print(lst2[i], \"index %d\"%i)\n",
    "print(\"-------------\")\n",
    "\n",
    "lst3 = [\"hello world\", 123, 10.00, True]\n",
    "i = 0\n",
    "while i < len(lst3):\n",
    "  print(lst3[i], \"index %d\"%i)\n",
    "  i = i + 1\n",
    "print(\"-------------\")\n",
    "\n",
    "lst4_1 = [\"hello world\", 123, 10.00, True]\n",
    "[print(x) for x in lst4_1]\n",
    "print(\"-------------\")\n",
    "\n",
    "lst4_2 = [x for x in range(5)]\n",
    "print(lst4_2)"
   ]
  },
  {
   "cell_type": "markdown",
   "metadata": {},
   "source": [
    "List Comprehension โดยรูปแบบการเขียนเป็นการย่อการทำงาน If และ Loop ให้อยู่ในรูปสั้นๆใน List\n",
    "\n",
    "lst = [expression for item in iterable if condition == True]"
   ]
  },
  {
   "cell_type": "code",
   "execution_count": null,
   "metadata": {},
   "outputs": [],
   "source": [
    "lst1 = [\"hello world\", \"hello it\", \"hello kmitl\"]\n",
    "lst2 = []\n",
    "\n",
    "for x in lst1:\n",
    "  if \"it\" in x:\n",
    "    lst2.append(x)\n",
    "\n",
    "print(lst2)\n",
    "\n",
    "lst3 = [\"hello world\", \"hello it\", \"hello kmitl\"]\n",
    "\n",
    "lst4 = [x for x in lst3 if \"it\" in x]\n",
    "# ทำงานโดยเริ่มจากการ loop เอาค่าที่อยู่ใน lst3 ออกมาก (for item in iterable) \n",
    "# แล้วเช็คว่าถ้ามีคำว่า it อยู่ใน String นั้นๆ (if condition == True)\n",
    "# ให้นำ x (expression) ไปใส่ใน List หากค่า condition เป็น False จะไม่นำ x ไปใส่ใน List\n",
    "print(lst4)\n",
    "\n",
    "lst5 = [x.upper() for x in lst3 if \"it\" in x]\n",
    "print(lst5)\n",
    "\n",
    "lst6 = [x if \"it\" in x else \"Not Have it\" for x in lst3]\n",
    "print(lst6)\n"
   ]
  },
  {
   "cell_type": "markdown",
   "metadata": {},
   "source": [
    "การเรียงข้อมูลของ List สามารถทำได้ดังนี้\n",
    "1. จากลำดับตัวอักษร ซึ่งเรียงโดยใช้รหัส ASCII ค่า Default เรียงจากน้อยไปมาก\n",
    "2. จากเลขโดยค่า Default จะเรียงจากน้อยไปมาก Default เรียงจากน้อยไปมาก\n",
    "3. กำหนดวิธีในการเรียงขึ้นเอง"
   ]
  },
  {
   "cell_type": "code",
   "execution_count": null,
   "metadata": {},
   "outputs": [],
   "source": [
    "lst1 = [\"graff\", \"elephant\", \"cat\", \"insect\", \"ant\"]\n",
    "lst1.sort()\n",
    "print(lst1)\n",
    "\n",
    "lst2 = [100, 50, 60, 80, 20]\n",
    "lst2.sort()\n",
    "print(lst2)"
   ]
  },
  {
   "cell_type": "markdown",
   "metadata": {},
   "source": [
    "วิธีการเรียงข้อมูลด้วย sort โดยเปลี่ยนค่า Default ที่เรียงจากน้อยไปมากให้เป็นมากไปน้อย โดยการใส่ argument เพิ่มลงไปใน method sort(reverse=True)"
   ]
  },
  {
   "cell_type": "code",
   "execution_count": null,
   "metadata": {},
   "outputs": [],
   "source": [
    "lst1 = [\"graff\", \"elephant\", \"cat\", \"insect\", \"ant\"]\n",
    "lst1.sort(reverse=True)\n",
    "print(lst1)\n",
    "\n",
    "lst2 = [100, 50, 60, 80, 20]\n",
    "lst2.sort(reverse=True)\n",
    "print(lst2)"
   ]
  },
  {
   "cell_type": "markdown",
   "metadata": {},
   "source": [
    "วิธีการกำหนดในการเรียงของ Sort ขึ้นเองโดยใช้ argument key ใส่ลงไปใน method sort(key=ชื่อฟังก์ชั่น)"
   ]
  },
  {
   "cell_type": "code",
   "execution_count": null,
   "metadata": {},
   "outputs": [],
   "source": [
    "#สร้าง Function ขึ้นมาแล้ว Return ค่าที่ต้องการให้ Sort สนใจ\n",
    "def convert(number):\n",
    "    return abs(number - 50) #นำค่าแต่ละตัวลบ 50 แล้วทำให้กลายเป็นค่า + ตลอด\n",
    "\n",
    "lst3 = [100, 50, 65, 82, 23]\n",
    "lst3.sort(key = convert) #ค่าที่ Sort จะสนใจจากการนำข้อมูลแต่ละตัวขึ้นไปให้ ฟังก์ชั่นข้างบนนำค่าใหม่กลับมาจะได้\n",
    "#key = convert ค่าที่ Sort เห็น [50, 0, 15, 32, 27] หรือ ค่าจริงๆ [100, 50, 65, 82, 23]\n",
    "print(lst3) # 50 จะได้อยู่หน้าสุดเนื่องจากผ่าน key ทำให้ 50 ได้ผลลัพธ์เป็น 0 ซึ่งเป็นค่าที่น้อยที่สุดจากการใช้ key"
   ]
  },
  {
   "cell_type": "markdown",
   "metadata": {},
   "source": [
    "ข้อควรระมัดระวังในการ sort string เนื่องจาก ค่า ASCII ตัวอักษร พิมพ์ใหญ่จะมีค่าน้อยกว่า ตัวอักษรพิมพ์เล็ก ถ้าหากต้องการให้เรียงข้อมูลจากตัวอักษร ไม่ว่าจะพิมพ์ใหญ่หรือ พิมพ์เล็กก็ตามให้ใช้ argument key ช่วย"
   ]
  },
  {
   "cell_type": "code",
   "execution_count": null,
   "metadata": {},
   "outputs": [],
   "source": [
    "lst1 = [\"Graff\", \"elephant\", \"Cat\", \"insect\", \"ant\"]\n",
    "lst1.sort()\n",
    "print(lst1)\n",
    "\n",
    "lst2 = [\"Graff\", \"elephant\", \"Cat\", \"insect\", \"ant\"]\n",
    "lst2.sort(key = str.lower)\n",
    "print(lst2)"
   ]
  },
  {
   "cell_type": "markdown",
   "metadata": {},
   "source": [
    "หรือยังสลับข้อมูลจากข้างหลังไปข้างไปข้างหน้าได้โดยใช้ Method reverse()"
   ]
  },
  {
   "cell_type": "code",
   "execution_count": null,
   "metadata": {},
   "outputs": [],
   "source": [
    "lst = [\"Graff\", \"elephant\", \"Cat\", \"insect\", \"ant\"]\n",
    "lst.reverse()\n",
    "print(lst)"
   ]
  },
  {
   "cell_type": "markdown",
   "metadata": {},
   "source": [
    "วิธีการบันทึก List ไปใส่ไว้ในตัวแปรอื่นทำได้โดยการใช้\n",
    "1. method copy()\n",
    "2. ใช้ = ประกาศค่าตามด้วย ฟังก์ชั่น list()\\\n",
    "หากเราใช้ = ประกาศค่าอย่างเดียว List ตั้งต้นมีการเปลี่ยนแปลง List ที่บันทึกค่าตั้งต้นไปจะเปลี่ยนแปลงไปด้วยตลอด"
   ]
  },
  {
   "cell_type": "code",
   "execution_count": null,
   "metadata": {},
   "outputs": [],
   "source": [
    "lst1_1 = [\"Graff\", \"elephant\", \"Cat\", \"insect\", \"ant\"]\n",
    "list1_2 = lst1_1.copy()\n",
    "print(list1_2)\n",
    "\n",
    "lst2_1 = [\"Graff\", \"elephant\", \"Cat\", \"insect\", \"ant\"]\n",
    "lst2_2 = list(lst2_1)\n",
    "lst2_1.sort()\n",
    "print(lst2_2)\n",
    "\n",
    "lst3 = [\"Graff\", \"elephant\", \"Cat\", \"insect\", \"ant\"]\n",
    "lst4 = lst3\n",
    "lst3.sort()\n",
    "print(lst3, lst4)"
   ]
  },
  {
   "cell_type": "markdown",
   "metadata": {},
   "source": [
    "การรวมข้อมูลชนิด List สามารถทำได้โดยการใช้\n",
    "1. ใช้เครื่องหมาย List + List\n",
    "2. ลูบเอาข้อมูลแต่ละตัวออกมาใน List แล้วเอาแต่ละค่า append ใส่ในอีก List หนึ่ง\n",
    "3. ใช้ method extend() รวม list อีกตัวเข้า list อีกตัวได้เลย\n"
   ]
  },
  {
   "cell_type": "code",
   "execution_count": null,
   "metadata": {},
   "outputs": [],
   "source": [
    "lst1_1 = [\"hello world\", 123, 10.00, True]\n",
    "lst1_2 = [\"Graff\", \"elephant\", \"Cat\", \"insect\", \"ant\"]\n",
    "\n",
    "lst1_3 = lst1_1 + lst1_2\n",
    "print(lst1_3)\n",
    "\n",
    "lst2_1 = [\"hello world\", 123, 10.00, True]\n",
    "lst2_2 = [\"Graff\", \"elephant\", \"Cat\", \"insect\", \"ant\"]\n",
    "\n",
    "for x in lst2_2:\n",
    "  lst2_1.append(x)\n",
    "\n",
    "print(lst2_1)\n",
    "\n",
    "lst3_1 = [\"hello world\", 123, 10.00, True]\n",
    "lst3_2 = [\"Graff\", \"elephant\", \"Cat\", \"insect\", \"ant\"]\n",
    "\n",
    "lst3_1.extend(lst3_2)\n",
    "print(lst3_1)"
   ]
  },
  {
   "cell_type": "markdown",
   "metadata": {},
   "source": [
    "สามารถเข้าไปดูรายละเอียดของ method ต่างของ List ได้นะครับว่าแต่ละตัวคืนค่าอะไร เขียนแบบใหน และใส่ argument อะไรเพิ่มได้บ้าง\\\n",
    "https://www.w3schools.com/python/python_lists_methods.asp"
   ]
  },
  {
   "cell_type": "markdown",
   "metadata": {},
   "source": [
    "# Dictionary\n",
    "เป็นชนิดตัวแปรที่เก็บข้อมูลหลายข้อมูลเอาไว้ในตัวแปรเดียวกัน แต่จะประกอบไปด้วย Key และ Value ซึ่ง Key จะเหมือนหมวดหมู่ของหนังสือ และ value จะเหมือนข้อมูลแต่ละหน้าที่อยู่ในหมวดหมู่หนังสือนั้นๆ Key สามารถเป็นข้อมูลชนิดใดก็ได้ ยกเว้นข้อมูลชนิด iterable ที่เป็น (List Dict Set) value เป็นได้ทุกชนิดข้อมูล"
   ]
  },
  {
   "cell_type": "code",
   "execution_count": null,
   "metadata": {},
   "outputs": [],
   "source": [
    "book = {\n",
    "    \"Name\": \"Oof Story\",\n",
    "    \"Unit\": [\"Chapter1\", \"Chapter2\", \"Chapter3\"],\n",
    "    \"Year\" : 2022,\n",
    "    \"Price\" : 125.50,\n",
    "    \"Sale\" : True,\n",
    "}\n",
    "print(book)"
   ]
  },
  {
   "cell_type": "markdown",
   "metadata": {},
   "source": [
    "Dictionary ไม่สามารถใช้ Key หรือหมวดหมู่ซ้ำได้ ถ้ามีซ้ำจะนำ Value ของตัวสุดท้ายไปใช้แทนที่\\\n",
    "และสามารใช้ len เพื่อดูจำนวนชุด key:value ใน Dictionary ได้"
   ]
  },
  {
   "cell_type": "code",
   "execution_count": null,
   "metadata": {},
   "outputs": [],
   "source": [
    "book = {\n",
    "    \"Name\": \"Oof Story\",\n",
    "    \"Unit\": [\"Chapter1\", \"Chapter2\", \"Chapter3\"],\n",
    "    \"Year\" : 2022,\n",
    "    \"Price\" : 95.50,\n",
    "    \"Price\" : 125.50,\n",
    "    \"Sale\" : True,\n",
    "}\n",
    "print(book)\n",
    "print(len(book))"
   ]
  },
  {
   "cell_type": "markdown",
   "metadata": {},
   "source": [
    "การเข้าถึงข้อมูล Value สามารถทำได้โดย\n",
    "1. การใช้ Key เพื่อเรียกดู Value ของ Key นั้นๆ หรือ \n",
    "2. การใช้ Key เพื่อเรียกดู Value ใช้ Method get()\n",
    "3. เรียกดู key ทั้งหมดใน Dict โดยใช้ Method keys() ค่าที่ส่งกลับมาจะเป็น List\n",
    "4. เรียกดู Value ทั้งหมดโดยใช้ Method values() ค่าที่ส่งกลับมาจะเป็น List\n",
    "5. เรียกดู Item หรือทั้ง key และ value โดยใช้ Method items() ค่าที่ส่งกลับมาจะเป็น List"
   ]
  },
  {
   "cell_type": "code",
   "execution_count": null,
   "metadata": {},
   "outputs": [],
   "source": [
    "book = {\n",
    "    \"Name\": \"Oof Story\",\n",
    "    \"Unit\": [\"Chapter1\", \"Chapter2\", \"Chapter3\"],\n",
    "    \"Year\" : 2022,\n",
    "    \"Price\" : 125.50,\n",
    "    \"Sale\" : True,\n",
    "}\n",
    "print(book[\"Price\"])\n",
    "print(book.get(\"Name\"))\n",
    "print(book.keys())\n",
    "print(book.values())"
   ]
  },
  {
   "cell_type": "markdown",
   "metadata": {},
   "source": [
    "สามารถเช็คว่า ข้อมูลนั้นๆ อยู่ใน key ของ Dictionary นั้นๆได้โดยการใช้ in"
   ]
  },
  {
   "cell_type": "code",
   "execution_count": null,
   "metadata": {},
   "outputs": [],
   "source": [
    "book = {\n",
    "    \"Name\": \"Oof Story\",\n",
    "    \"Unit\": [\"Chapter1\", \"Chapter2\", \"Chapter3\"],\n",
    "    \"Year\" : 2022,\n",
    "    \"Price\" : 125.50,\n",
    "    \"Sale\" : True,\n",
    "}\n",
    "if \"Price\" in book:\n",
    "  print(\"Yes, 'Price' is one of the keys in the book dictionary\")"
   ]
  },
  {
   "cell_type": "markdown",
   "metadata": {},
   "source": [
    "การเปลี่ยนแปลงค่ารวมไปถึงการเพิ่มค่า key และ value ใน Dictionary ทำได้โดย\n",
    "1. ใช้[] บอก key ใส่ = ตามด้วยค่า value ที่ต้องการเปลี่ยนแปลง หรือ เพิ่มข้อมูล\n",
    "2. ใช้ Method update() ใส่ {key : value} ที่ต้องการเปลี่ยนแปลง หรือ เพิ่มข้อมูล"
   ]
  },
  {
   "cell_type": "code",
   "execution_count": null,
   "metadata": {},
   "outputs": [],
   "source": [
    "book = {\n",
    "    \"Name\": \"Oof Story\",\n",
    "    \"Unit\": [\"Chapter1\", \"Chapter2\", \"Chapter3\"],\n",
    "    \"Year\" : 2022,\n",
    "    \"Price\" : 125.50,\n",
    "    \"Sale\" : True,\n",
    "}\n",
    "book[\"Salse\"] = False\n",
    "book.update({\"year\": 2020})\n",
    "print(book)\n",
    "\n",
    "book['Page'] = 200\n",
    "book.update({\"Languages\": \"TH\"})\n",
    "print(book)"
   ]
  },
  {
   "cell_type": "markdown",
   "metadata": {},
   "source": [
    "การลบข้อมูลใน Dictionary ทำได้โดย\n",
    "1. ใช้ Method pop() ใส่ Key ที่ต้องการลบ Key และ Value นั้นๆออกไป\n",
    "2. ใช้ Method popitem() เพื่อเอา Key และ Value ตัวสุดท้ายออก\n",
    "3. ใช้ del ตามด้วย varible\\[key\\] ที่ต้องการลบ key และ value นั้นๆด้วย\n",
    "4. ใช้ Method clear เพื่อล้างค่าที่อยู้ใน dictionary ทั้งหมดเป็น {} "
   ]
  },
  {
   "cell_type": "code",
   "execution_count": null,
   "metadata": {},
   "outputs": [],
   "source": [
    "book = {\n",
    "    \"Name\": \"Oof Story\",\n",
    "    \"Unit\": [\"Chapter1\", \"Chapter2\", \"Chapter3\"],\n",
    "    \"Year\" : 2022,\n",
    "    \"Price\" : 125.50,\n",
    "    \"Sale\" : True,\n",
    "}\n",
    "book.pop(\"Year\")\n",
    "print(book)\n",
    "\n",
    "book.popitem()\n",
    "print(book)\n",
    "\n",
    "del book[\"Price\"]\n",
    "print(book)\n",
    "\n",
    "book.clear()\n",
    "print(book)"
   ]
  },
  {
   "cell_type": "markdown",
   "metadata": {},
   "source": [
    "การ Loop โดยการนำค่าออกมาดูหรือใช้งาน ทำได้หลายวิธีดังนี้\n",
    "1. Loop key ออกมาโดยใช้ for a_key in ตัวแปร dict\n",
    "2. Loop Value ออกมาโดยการใช้ ตามข้อ 1 โดยนำ ตัวแปร dict\\[a_key\\] เข้าถึงค่า\n",
    "3. Loop value ทั้งหมดโดยใช้ Method values()\n",
    "4. Loop key ทั้งหมดโดยใช้ Method keys()\n",
    "5. Loop key และ Value โดยใช้ Method items() โดยการใช้ตัวแปร Loop 2 ตัว"
   ]
  },
  {
   "cell_type": "code",
   "execution_count": null,
   "metadata": {},
   "outputs": [],
   "source": [
    "book = {\n",
    "    \"Name\": \"Oof Story\",\n",
    "    \"Unit\": [\"Chapter1\", \"Chapter2\", \"Chapter3\"],\n",
    "    \"Year\" : 2022,\n",
    "    \"Price\" : 125.50,\n",
    "    \"Sale\" : True,\n",
    "}\n",
    "\n",
    "for x in book:\n",
    "  print(x, end=\" \")\n",
    "print()\n",
    "\n",
    "for x in book:\n",
    "  print(book[x], end=\" \")\n",
    "print()\n",
    "\n",
    "for x in book.values():\n",
    "  print(x, end=\" \")\n",
    "print()\n",
    "\n",
    "for x in book.keys():\n",
    "  print(x, end=\" \")\n",
    "print()\n",
    "\n",
    "for x, y in book.items():\n",
    "  print(\"(\", x, y, \")\", end=\" \")"
   ]
  },
  {
   "cell_type": "markdown",
   "metadata": {},
   "source": [
    "การบันทึก Dictionary สามารถทำได้โดยการ\n",
    "1. ใช้ Method copy() ใส่ในตัวแปรใหม่\n",
    "2. ใช้ Function dict() ใส่ในตัวแปรใหม่"
   ]
  },
  {
   "cell_type": "code",
   "execution_count": null,
   "metadata": {},
   "outputs": [],
   "source": [
    "book = {\n",
    "    \"Name\": \"Oof Story\",\n",
    "    \"Unit\": [\"Chapter1\", \"Chapter2\", \"Chapter3\"],\n",
    "    \"Year\" : 2022,\n",
    "    \"Price\" : 125.50,\n",
    "    \"Sale\" : True,\n",
    "}\n",
    "new_book = book.copy()\n",
    "print(new_book)\n",
    "\n",
    "book = {\n",
    "    \"Name\": \"Oof Story\",\n",
    "    \"Unit\": [\"Chapter1\", \"Chapter2\", \"Chapter3\"],\n",
    "    \"Year\" : 2022,\n",
    "    \"Price\" : 125.50,\n",
    "    \"Sale\" : True,\n",
    "}\n",
    "new_book = dict(book)\n",
    "print(new_book)"
   ]
  },
  {
   "cell_type": "markdown",
   "metadata": {},
   "source": [
    "dictionary สามารถที่จะมี value ที่เป็น dictionary ซ้อนเข้าไปอยู่ได้"
   ]
  },
  {
   "cell_type": "code",
   "execution_count": null,
   "metadata": {},
   "outputs": [],
   "source": [
    "store = {\n",
    "  \"book1\" : {\n",
    "    \"name\" : \"Oof Story\",\n",
    "    \"year\" : 2004\n",
    "  },\n",
    "  \"book2\" : {\n",
    "    \"name\" : \"Tawan Story\",\n",
    "    \"year\" : 2007\n",
    "  },\n",
    "  \"book3\" : {\n",
    "    \"name\" : \"Toen Teen Story\",\n",
    "    \"year\" : 2011\n",
    "  }\n",
    "}\n",
    "\n",
    "print(store)"
   ]
  },
  {
   "cell_type": "markdown",
   "metadata": {},
   "source": [
    "สามารถเข้าไปดูรายละเอียดของ Method ที่กล่าวมาข้างต้นหรืออื่นๆได้ที่\\\n",
    "https://www.w3schools.com/python/python_dictionaries_methods.asp"
   ]
  },
  {
   "cell_type": "markdown",
   "metadata": {},
   "source": [
    "# Set\n",
    "เป็นชนิดตัวแปรที่เก็บข้อมูลหลายข้อมูลเอาไว้ในตัวแปรเดียวแต่ Set ไม่มีการจัดลำดับของข้อมูล หรือ ลำดับของข้อมูลจะถูก random ได้ตลอด ไม่สามารถเปลี่ยนแปลงค่าได้หลังจากประกาศและ ไม่สามารถใช้ลำดับเข้าถึงข้อมูลได้"
   ]
  },
  {
   "cell_type": "code",
   "execution_count": null,
   "metadata": {},
   "outputs": [],
   "source": [
    "var_set = {\"string\", 0, True, 99.99, (1, 2, 3), 99.99} #ไม่สามารถใส่ iterable (list dictionary)ได้ ค่าที่ซ้ำจะถูกรวมให้เป็นตัวเดียว\n",
    "print(var_set)\n",
    "\n",
    "#แปลงจากค่า Tuple ได้\n",
    "var_set = set((\"string\", 0, True, 99.99, (1, 2, 3))) # note the double round-brackets\n",
    "print(var_set)"
   ]
  },
  {
   "cell_type": "markdown",
   "metadata": {},
   "source": [
    "เข้าถึงได้ด้วยการ Loop และสามารถเช็คข้อมูลนั้นได้ว่าอยู่ใน Set ไหม"
   ]
  },
  {
   "cell_type": "code",
   "execution_count": 3,
   "metadata": {},
   "outputs": [
    {
     "name": "stdout",
     "output_type": "stream",
     "text": [
      "0 True 99.99 (1, 2, 3) string \n",
      "True\n"
     ]
    }
   ],
   "source": [
    "var_set = {\"string\", 0, True, 99.99, (1, 2, 3)}\n",
    "for x in var_set:\n",
    "  print(x, end=\" \")\n",
    "print()\n",
    "\n",
    "var_set = {\"string\", 0, True, 99.99, (1, 2, 3)}\n",
    "print(\"string\" in var_set)"
   ]
  },
  {
   "cell_type": "markdown",
   "metadata": {},
   "source": [
    "การเพิ่มค่าลงใน Set มีดังนี้\n",
    "1. ใช้ Method add() ใส่ค่าที่เพิ่มเข้าไป\n",
    "2. ใช้ Method Update ใส่ค่าที่เป็น Iterable (tuples, lists, dictionarys, อื่นๆ) ได้ เพิ่มเข้าไปได้"
   ]
  },
  {
   "cell_type": "code",
   "execution_count": null,
   "metadata": {},
   "outputs": [],
   "source": [
    "var_set1 = {\"string\", 0, True, 99.99, (1, 2, 3)}\n",
    "var_set2 = [\"int\", \"float\"]\n",
    "\n",
    "var_set1.update(var_set2)\n",
    "\n",
    "print(var_set1)"
   ]
  },
  {
   "cell_type": "markdown",
   "metadata": {},
   "source": [
    "การลบค่าใน Remove สามารถลบได้โดยการ\n",
    "1. ใช้ Method remove() ใส่ค่าที่ต้องการลบใน Set ถ้าหากไม่เจอจะ Error\n",
    "2. ใช้ Method discard() ใส่ค่าที่ต้องการลบใน Set ถ้าหากไม่เจอจะไม่ Error\n",
    "3. ใช้ Method pop() ลบค่าอยู้ข้างหลังสุด\n",
    "4. ใช้ Method clear() เพื่อล้างค่า Set ทั้งหมดเป็น set()\n",
    "5. ใช้ del ตัวแปร set เพื่อลบตัวแปรออกไป"
   ]
  },
  {
   "cell_type": "code",
   "execution_count": null,
   "metadata": {},
   "outputs": [],
   "source": [
    "var_set = {\"string\", 0, True, 99.99, (1, 2, 3)}\n",
    "var_set.remove(\"string\")\n",
    "print(var_set)\n",
    "\n",
    "var_set = {\"string\", 0, True, 99.99, (1, 2, 3)}\n",
    "var_set.discard(True)\n",
    "print(var_set)\n",
    "\n",
    "var_set = {\"string\", 0, True, 99.99, (1, 2, 3)}\n",
    "x = var_set.pop()\n",
    "print(x)\n",
    "print(var_set)\n",
    "\n",
    "var_set = {\"string\", 0, True, 99.99, (1, 2, 3)}\n",
    "var_set.clear()\n",
    "print(var_set)\n",
    "\n",
    "var_set = {\"string\", 0, True, 99.99, (1, 2, 3)}\n",
    "del var_set\n",
    "print(var_set) #เกิด Error เพราะตัวแปรโดนลบโดยหาตัวแปรไม่เจอ"
   ]
  },
  {
   "cell_type": "markdown",
   "metadata": {},
   "source": [
    "Loop เอาค่า Set ออกมาโดนการใช้ for"
   ]
  },
  {
   "cell_type": "code",
   "execution_count": 1,
   "metadata": {},
   "outputs": [
    {
     "name": "stdout",
     "output_type": "stream",
     "text": [
      "0\n",
      "True\n",
      "99.99\n",
      "(1, 2, 3)\n",
      "string\n"
     ]
    }
   ],
   "source": [
    "var_set = {\"string\", 0, True, 99.99, (1, 2, 3)}\n",
    "\n",
    "for x in var_set:\n",
    "  print(x)"
   ]
  },
  {
   "cell_type": "markdown",
   "metadata": {},
   "source": [
    "การรวม Set 2 Set เข้าด้วยกันทำได้แบบดังนี้\n",
    "1. ใช้ Method union() หรือ ใช้ Method update() เพื่อรวม Set 2 Set ถ้ามีค่าซ้ำกันจะรวมเป็นตัวเดียว\n",
    "2. ใช้ Method intersection_update() เพื่อเอาค่ามารวมแต่เลือกเฉพาะค่าที่ซ้ำกันออกมาเปลี่ยนค่าอยู่ในตัวแปรเดิม\n",
    "3. ใช้ Method intersection() เพื่อเอาค่ามารวมแต่เลือกเฉพาะค่าที่ซ้ำกันออกมาเปลี่ยนแปลงค่าอยู่ในตัวแปรใหม่\n",
    "4. ใช้ Method symmetric_difference_update() เพื่อหาค่าที่แตกต่างกันทั้งหมดออกมาเปลี่ยนแปลงค่าอยู่ในตัวแปรเดิม\n",
    "5. ใช้ Method symmetric_difference() เพื่อหาค่าที่แตกต่างกันทั้งหมดออกมาเปลี่ยนแปลงค่าอยู่ในตัวแปรใหม่"
   ]
  },
  {
   "cell_type": "code",
   "execution_count": 75,
   "metadata": {},
   "outputs": [
    {
     "name": "stdout",
     "output_type": "stream",
     "text": [
      "{0, True, 99.99, 'Text', (1, 2, 3), 12.13, 'string'}\n",
      "{False, 'string'}\n",
      "{False, 'string'}\n",
      "{True, 99.99, 3.14, 5, (11, 12, 13), (1, 2, 3)}\n",
      "{0, True, 99.99, 'microsoft', (1, 2, 3), 'google', 'apple', 'string'}\n"
     ]
    }
   ],
   "source": [
    "var_set1 = {\"string\", 0, True, 99.99, (1, 2, 3)}\n",
    "var_set1_1 = {0, 1, 2, 3}\n",
    "var_set = var_set1.union(var_set1_1)\n",
    "\n",
    "var_set1_2 = {\"Text\", True, 12.13}\n",
    "var_set1.update(var_set1_2)\n",
    "print(var_set1)\n",
    "\n",
    "var_set2_1 = {\"string\", 0, True, 99.99, (1, 2, 3)} \n",
    "var_set2_2 = {\"string\", 5, False, 3.14, (11, 12, 13)}\n",
    "var_set2_1.intersection_update(var_set2_2)\n",
    "print(var_set2_1) #0 กับ False มีค่าเหมือนกัน\n",
    "\n",
    "var_set3_1 = {\"string\", 0, True, 99.99, (1, 2, 3)}\n",
    "var_set3_2 = {\"string\", 5, False, 3.14, (11, 12, 13)}\n",
    "var_set3 = var_set3_1.intersection(var_set3_2)\n",
    "print(var_set3) #0 กับ False มีค่าเหมือนกัน\n",
    "\n",
    "var_set4_1 = {\"string\", 0, True, 99.99, (1, 2, 3)}\n",
    "var_set4_2 = {\"string\", 5, False, 3.14, (11, 12, 13)}\n",
    "var_set4_1.symmetric_difference_update(var_set4_2)\n",
    "print(var_set4_1)\n",
    "\n",
    "var_set5_1 = {\"string\", 0, True, 99.99, (1, 2, 3)}\n",
    "var_set5_2 = {\"string\", 5, False, 3.14, (11, 12, 13)}\n",
    "var_set5 = var_set5_1.symmetric_difference(y)\n",
    "print(var_set5)"
   ]
  },
  {
   "cell_type": "markdown",
   "metadata": {},
   "source": [
    "สามารดูรายละเอียดหรือ Method ของ Set เพิ่มเติมได้ที่\\\n",
    "https://www.w3schools.com/python/python_sets_methods.asp"
   ]
  },
  {
   "cell_type": "markdown",
   "metadata": {},
   "source": [
    "# เทคนิคเพิ่มเติม"
   ]
  },
  {
   "cell_type": "markdown",
   "metadata": {},
   "source": [
    "การรับ Input ที่ได้มา ทำให้อยู่ในรูปของ List ได้โดยการใช้ String method split() โดยที่ split จะแบ่ง String ที่ขั้นกันด้วย \" \" (default) ให้คืนค่ากลับมาเป็น List ให้เรา"
   ]
  },
  {
   "cell_type": "code",
   "execution_count": 80,
   "metadata": {},
   "outputs": [
    {
     "name": "stdout",
     "output_type": "stream",
     "text": [
      "['1', '2', '3', '4'] ('1', '2', '3', '4') {'3', '4', '1', '2'}\n"
     ]
    }
   ],
   "source": [
    "txt = \"1 2 3 4\" #เลขขั้นกันด้วย \" \"\n",
    "x = txt.split(\" \") #default เป็น \" \" ดังนั้นใส่หรือไม่ใส่ก็ได้\n",
    "print(x, tuple(x), set(x)) #x return เป็น List หรือแปลงให้เป็น Iterable อื่นๆได้\n",
    "\n"
   ]
  },
  {
   "cell_type": "markdown",
   "metadata": {},
   "source": [
    "การใช้ Method มีข้อควรระวังโปรดตรวจสอบว่า Method นั้นๆคืนค่าอะไรหรือทำงานอย่างไรให้ดีเช่น sort() กับ sorted()"
   ]
  },
  {
   "cell_type": "code",
   "execution_count": 82,
   "metadata": {},
   "outputs": [
    {
     "name": "stdout",
     "output_type": "stream",
     "text": [
      "None\n",
      "['ant', 'cat', 'elephant', 'graff', 'insect']\n",
      "['ant', 'cat', 'elephant', 'graff', 'insect']\n",
      "['graff', 'elephant', 'cat', 'insect', 'ant']\n"
     ]
    }
   ],
   "source": [
    "lst1 = [\"graff\", \"elephant\", \"cat\", \"insect\", \"ant\"]\n",
    "print(lst1.sort()) # คืนค่าเป็น None หรือ ความหมายโดยนัยคือไม่มีค่าที่ส่งกลับคืนจากการเรียกใช้ แต่มีการทำงานไปแล้ว\n",
    "print(lst1)\n",
    "\n",
    "lst2 = [\"graff\", \"elephant\", \"cat\", \"insect\", \"ant\"]\n",
    "print(sorted(lst2)) #คืนค่าเป็น lst2 ที่ถูก Sort โดย lst2 ยังมีค่าคงเดิมไม่ถูก sort ไปด้วย\n",
    "print(lst2)"
   ]
  },
  {
   "cell_type": "markdown",
   "metadata": {},
   "source": [
    "lambda เป็นการสร้างฟังก์ชั่นที่ไม่ต้องมรชื่อ ฟังก์ชั่นโดยมีรูปแบบการเขียนคือ lambda arguments(ตัวแปรที่ส่งมา) : expression การดำเนินการที่ต้องการ"
   ]
  },
  {
   "cell_type": "code",
   "execution_count": 87,
   "metadata": {},
   "outputs": [
    {
     "name": "stdout",
     "output_type": "stream",
     "text": [
      "30\n",
      "22\n"
     ]
    }
   ],
   "source": [
    "x = lambda a, b : a * b\n",
    "print(x(5, 6))\n",
    "\n",
    "def funct(n):\n",
    "  return lambda a : a * n\n",
    "\n",
    "double = funct(2)\n",
    "\n",
    "print(double(11))"
   ]
  }
 ],
 "metadata": {
  "kernelspec": {
   "display_name": "Python 3.10.2 64-bit",
   "language": "python",
   "name": "python3"
  },
  "language_info": {
   "codemirror_mode": {
    "name": "ipython",
    "version": 3
   },
   "file_extension": ".py",
   "mimetype": "text/x-python",
   "name": "python",
   "nbconvert_exporter": "python",
   "pygments_lexer": "ipython3",
   "version": "3.10.2"
  },
  "orig_nbformat": 4,
  "vscode": {
   "interpreter": {
    "hash": "2469a70536e4d2335a2ea8907942d0699c37342a371ac185bdb5b0aa6f073890"
   }
  }
 },
 "nbformat": 4,
 "nbformat_minor": 2
}
